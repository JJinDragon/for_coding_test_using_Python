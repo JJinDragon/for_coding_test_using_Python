{
 "cells": [
  {
   "cell_type": "code",
   "execution_count": 31,
   "id": "fd7083a2-d645-4150-a5f0-a32baaff1540",
   "metadata": {},
   "outputs": [
    {
     "name": "stdout",
     "output_type": "stream",
     "text": [
      "1 1\n",
      "1\n",
      "1\n"
     ]
    }
   ],
   "source": [
    "import sys\n",
    "\n",
    "#input=sys.stdin.readline\n",
    "N, K=map(int, input().split())\n",
    "coin=[]\n",
    "MAX=0\n",
    "\n",
    "for i in range(N):\n",
    "    temp=int(input())\n",
    "    coin.append(temp)\n",
    "    if temp<=K:\n",
    "        MAX=temp\n",
    "\n",
    "cnt=0\n",
    "temp=coin.index(MAX) \n",
    "\n",
    "while True:\n",
    "    if K==0:\n",
    "        break\n",
    "    elif K/coin[temp]>=1:\n",
    "        cnt+=(K//coin[temp])\n",
    "        K=(K%coin[temp])\n",
    "    else:\n",
    "        temp-=1\n",
    "print(cnt)"
   ]
  },
  {
   "cell_type": "code",
   "execution_count": null,
   "id": "058dfe69",
   "metadata": {},
   "outputs": [],
   "source": []
  }
 ],
 "metadata": {
  "kernelspec": {
   "display_name": "Python 3 (ipykernel)",
   "language": "python",
   "name": "python3"
  },
  "language_info": {
   "codemirror_mode": {
    "name": "ipython",
    "version": 3
   },
   "file_extension": ".py",
   "mimetype": "text/x-python",
   "name": "python",
   "nbconvert_exporter": "python",
   "pygments_lexer": "ipython3",
   "version": "3.9.13"
  }
 },
 "nbformat": 4,
 "nbformat_minor": 5
}
