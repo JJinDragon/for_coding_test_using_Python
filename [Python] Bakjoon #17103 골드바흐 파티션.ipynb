{
 "cells": [
  {
   "cell_type": "code",
   "execution_count": null,
   "id": "97195751",
   "metadata": {},
   "outputs": [],
   "source": [
    "## 17103 골드바흐 파티션\n",
    "import sys\n",
    "import math\n",
    "\n",
    "# input=sys.stdin.readline\n",
    "def is_prime_number(x):\n",
    "    # 2부터 x의 제곱근까지의 모든 수를 확인하며\n",
    "    for i in range(2, int(math.sqrt(x)) + 1):\n",
    "        # x가 해당 수로 나누어떨어진다면\n",
    "        if x % i == 0:\n",
    "            return False  # 소수가 아님\n",
    "    return True  # 소수임\n",
    "\n",
    "\n",
    "T = int(input())\n",
    "for i in range(T):\n",
    "    cnt = 0\n",
    "    M = int(input())\n",
    "\n",
    "    if is_prime_number(M - 2) == True:\n",
    "        cnt += 1\n",
    "    for j in range(3, int(M / 2 + 1), 2):\n",
    "        if is_prime_number(j) == True:\n",
    "            if is_prime_number(M - j) == True:\n",
    "                cnt += 1\n",
    "    print(cnt)\n",
    "\n",
    "\"\"\"    \n",
    "일단 답은 맞는거 같음, 근데 시간오류인데,,,,, 그럼 현재 수식에서 줄일 방법을 찾아야하는데 개인적인 생각에 소수에 대해\n",
    "미리 규정을 해두면 좀 효율적일 수 있지 않을까 싶음. 소수들의 합 연산으로 해볼 수 있으려나...\n",
    "ex) 8 -> 2,6 X 3,5 O 4,4 X 이렇게 탐색하는게 내 방식이면\n",
    "ex) 8 -> 2+3 X 2+5 X 2+7 X 3+5 O 이렇게 풀 수 있지 않을까 싶음.\n",
    "음 음 음 음 음 \n",
    "\"\"\""
   ]
  }
 ],
 "metadata": {
  "kernelspec": {
   "display_name": "Python 3 (ipykernel)",
   "language": "python",
   "name": "python3"
  },
  "language_info": {
   "codemirror_mode": {
    "name": "ipython",
    "version": 3
   },
   "file_extension": ".py",
   "mimetype": "text/x-python",
   "name": "python",
   "nbconvert_exporter": "python",
   "pygments_lexer": "ipython3",
   "version": "3.10.9"
  }
 },
 "nbformat": 4,
 "nbformat_minor": 5
}
