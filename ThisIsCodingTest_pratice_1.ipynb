{
 "cells": [
  {
   "cell_type": "markdown",
   "metadata": {},
   "source": [
    "# p92 큰수의 법칙"
   ]
  },
  {
   "cell_type": "code",
   "execution_count": 7,
   "metadata": {},
   "outputs": [
    {
     "name": "stdout",
     "output_type": "stream",
     "text": [
      "46\n"
     ]
    },
    {
     "data": {
      "text/plain": [
       "'\\n#Solution\\n\\ncount=int(m/(k+1))*k #수열의 관계를 파악한 것\\ncount+=m%(k+1)\\n\\nresult+=(count)*first\\nresult+=(m-count)*second\\n'"
      ]
     },
     "execution_count": 7,
     "metadata": {},
     "output_type": "execute_result"
    }
   ],
   "source": [
    "N=[2,3,4,5,6]\n",
    "NMK=[5,8,3]\n",
    "result=0\n",
    "\n",
    "N.sort()\n",
    "\n",
    "\n",
    "result+=(N[-1]*(NMK[1]-NMK[1]//NMK[2])) #수열의 갯수를 유추한 풀이\n",
    "result+=N[-2]*(NMK[1]//NMK[2])\n",
    "\n",
    "print(result)\n",
    "\n",
    "\"\"\"\n",
    "#Solution\n",
    "\n",
    "count=int(m/(k+1))*k #수열의 관계를 파악한 것\n",
    "count+=m%(k+1)\n",
    "\n",
    "result+=(count)*first\n",
    "result+=(m-count)*second\n",
    "\"\"\""
   ]
  },
  {
   "cell_type": "markdown",
   "metadata": {},
   "source": [
    "# p96 숫자 카드 게임"
   ]
  },
  {
   "cell_type": "code",
   "execution_count": 5,
   "metadata": {},
   "outputs": [
    {
     "name": "stdout",
     "output_type": "stream",
     "text": [
      "3 3\n",
      "3 1 2\n",
      "4 1 4\n",
      "2 2 2\n",
      "2\n"
     ]
    }
   ],
   "source": [
    "N,M=map(int,input().split())\n",
    "result=0\n",
    "for x in range(N):\n",
    "    line=list(map(int,input().split()))\n",
    "    min_value=min(line)\n",
    "    \n",
    "    result=max(result,min_value)\n",
    "\n",
    "print(result)"
   ]
  },
  {
   "cell_type": "markdown",
   "metadata": {},
   "source": [
    "# p99 1이 될 때 까지"
   ]
  },
  {
   "cell_type": "code",
   "execution_count": 11,
   "metadata": {},
   "outputs": [
    {
     "name": "stdout",
     "output_type": "stream",
     "text": [
      "25 3\n",
      "6\n"
     ]
    }
   ],
   "source": [
    "N,K=map(int,input().split())\n",
    "cnt=0\n",
    "while N>=1:\n",
    "    if N%K==0:\n",
    "        N=N/K\n",
    "    else:\n",
    "        N-=1\n",
    "    cnt+=1\n",
    "    \n",
    "print(cnt)"
   ]
  },
  {
   "cell_type": "markdown",
   "metadata": {},
   "source": [
    "# 110p 예제4-1 상하좌우"
   ]
  },
  {
   "cell_type": "code",
   "execution_count": 28,
   "metadata": {},
   "outputs": [
    {
     "name": "stdout",
     "output_type": "stream",
     "text": [
      "5\n",
      "R R R U D D\n",
      "3 4\n"
     ]
    }
   ],
   "source": [
    "N=int(input())\n",
    "Move=map(str,input().split())\n",
    "\n",
    "movelist=[\"L\",\"R\",\"U\",\"D\"]\n",
    "X,Y=1,1\n",
    "dx=[0,0,-1,1]\n",
    "dy=[-1,1,0,0]\n",
    "\n",
    "for i in Move:\n",
    "    for j in range(len(movelist)):\n",
    "        if i==movelist[j]:\n",
    "            if X+dx[j]<=N and X+dx[j]>=1 and Y+dy[j]<=N and Y+dy[j]>=1:\n",
    "                X+=dx[j]\n",
    "                Y+=dy[j]\n",
    "            continue\n",
    "print(X,Y)"
   ]
  },
  {
   "cell_type": "markdown",
   "metadata": {},
   "source": [
    "# 113p 예제 4-2 시각"
   ]
  },
  {
   "cell_type": "code",
   "execution_count": 38,
   "metadata": {},
   "outputs": [
    {
     "name": "stdout",
     "output_type": "stream",
     "text": [
      "5\n",
      "11475\n"
     ]
    }
   ],
   "source": [
    "N=int(input())\n",
    "cnt=0\n",
    "for z in range(N+1):\n",
    "    for i in range(60):\n",
    "        for j in range(60):\n",
    "            if '3' in str(i)+str(j)+str(z):\n",
    "                cnt+=1\n",
    "\n",
    "print(cnt)"
   ]
  },
  {
   "cell_type": "markdown",
   "metadata": {},
   "source": [
    "# 115p 실전문제 왕실의 나이트"
   ]
  },
  {
   "cell_type": "code",
   "execution_count": 66,
   "metadata": {},
   "outputs": [
    {
     "name": "stdout",
     "output_type": "stream",
     "text": [
      "a2\n",
      "3\n"
     ]
    }
   ],
   "source": [
    "place=input()\n",
    "X,Y=place[0],int(place[1])\n",
    "\n",
    "\n",
    "X_data=['a','b','c','d','e','f','g','h']\n",
    "X=X_data.index(X)+1\n",
    "\n",
    "cnt=0\n",
    "step=[[-1,-2],[-1,2],[1,-2],[1,2],[-2,-1],[-2,1],[2,-1],[2,1]]\n",
    "for i in step:\n",
    "    if i[0]+X>=1 and i[0]+X<=8 and i[1]+Y>=1 and i[1]+Y<=8:\n",
    "        cnt+=1\n",
    "print(cnt)"
   ]
  },
  {
   "cell_type": "code",
   "execution_count": 67,
   "metadata": {},
   "outputs": [],
   "source": [
    "# 118p 실전문제 게임 개발 "
   ]
  },
  {
   "cell_type": "code",
   "execution_count": 69,
   "metadata": {},
   "outputs": [
    {
     "name": "stdout",
     "output_type": "stream",
     "text": [
      "4 4\n"
     ]
    }
   ],
   "source": [
    "N,M=map(int,input().split()) \n",
    "Map=[[0]*M for _ in range(N)] #일단 맵을 생성함. 이 맵은 내가 방문했는지 여부를 알기 위함.\n",
    "\n",
    "x,y,sight=map(int,input().split()) #현 좌표값, 보고 있는 방향\n",
    "Map[x][y]=1 #현 좌표는 이제 방문했고\n",
    "\n",
    "realmap=[]\n",
    "for i in range(N):\n",
    "    realmap.append(list(map(int,input().split()))) #바다, 육지 맵 생성\n",
    "    \n",
    "dx=[0,1,0,-1]  #북동남서 x\n",
    "dy=[-1,0,1,-1] #북동남서 y\n",
    "\n",
    "#1.현재 방향을 기준으로 왼쪽 방향부터 갈 곳을 정한다.\n",
    "def turn_left():\n",
    "    global sight\n",
    "    sight-=1\n",
    "    if sight==-1:\n",
    "        sight=3\n",
    "\n",
    "while True:\n",
    "    turn_left(()\n",
    "    "
   ]
  },
  {
   "cell_type": "code",
   "execution_count": 73,
   "metadata": {},
   "outputs": [
    {
     "name": "stdout",
     "output_type": "stream",
     "text": [
      "4 4\n",
      "1 1 0\n",
      "1 1 1 1\n",
      "1 0 0 1\n",
      "1 1 0 1\n",
      "1 1 1 1\n"
     ]
    },
    {
     "ename": "IndexError",
     "evalue": "list index out of range",
     "output_type": "error",
     "traceback": [
      "\u001b[1;31m---------------------------------------------------------------------------\u001b[0m",
      "\u001b[1;31mIndexError\u001b[0m                                Traceback (most recent call last)",
      "\u001b[1;32m<ipython-input-73-bba564fcb8df>\u001b[0m in \u001b[0;36m<module>\u001b[1;34m\u001b[0m\n\u001b[0;32m     23\u001b[0m \u001b[1;32mwhile\u001b[0m \u001b[1;32mTrue\u001b[0m\u001b[1;33m:\u001b[0m\u001b[1;33m\u001b[0m\u001b[1;33m\u001b[0m\u001b[0m\n\u001b[0;32m     24\u001b[0m     \u001b[0mturn_left\u001b[0m\u001b[1;33m(\u001b[0m\u001b[1;33m)\u001b[0m\u001b[1;33m\u001b[0m\u001b[1;33m\u001b[0m\u001b[0m\n\u001b[1;32m---> 25\u001b[1;33m     \u001b[0mnx\u001b[0m\u001b[1;33m=\u001b[0m\u001b[0mx\u001b[0m\u001b[1;33m+\u001b[0m\u001b[0mdx\u001b[0m\u001b[1;33m[\u001b[0m\u001b[0mdirection\u001b[0m\u001b[1;33m]\u001b[0m\u001b[1;33m\u001b[0m\u001b[1;33m\u001b[0m\u001b[0m\n\u001b[0m\u001b[0;32m     26\u001b[0m     \u001b[0mny\u001b[0m\u001b[1;33m=\u001b[0m\u001b[0my\u001b[0m\u001b[1;33m+\u001b[0m\u001b[0mdy\u001b[0m\u001b[1;33m[\u001b[0m\u001b[0mdirection\u001b[0m\u001b[1;33m]\u001b[0m\u001b[1;33m\u001b[0m\u001b[1;33m\u001b[0m\u001b[0m\n\u001b[0;32m     27\u001b[0m \u001b[1;33m\u001b[0m\u001b[0m\n",
      "\u001b[1;31mIndexError\u001b[0m: list index out of range"
     ]
    }
   ],
   "source": [
    "#해답\n",
    "\"\"\"\n",
    "n,m=map(int,input().split())\n",
    "\n",
    "d=[[0]*m for _ in range(n)]\n",
    "x,y,direction=map(int,input().split())\n",
    "d[x][y]=1\n",
    "\n",
    "array=[]\n",
    "for i in range(n):\n",
    "    array.append(list(map(int,input().split())))\n",
    "\n",
    "dx=[-1,0,1,0]\n",
    "dy=[0,1,0,-1]\n",
    "\n",
    "def turn_left():\n",
    "    global direction\n",
    "    direction-=1\n",
    "    if direction== -1:\n",
    "        direction==3\n",
    "\n",
    "count=1\n",
    "turn_time=0\n",
    "while True:\n",
    "    turn_left()\n",
    "    nx=x+dx[direction]\n",
    "    ny=y+dy[direction]\n",
    "    \n",
    "    if d[nx][ny]==0 and array[nx][ny]==0:\n",
    "        d[nx][ny]=1\n",
    "        x=nx\n",
    "        y=ny\n",
    "        count+=1\n",
    "        turn_time=0\n",
    "        continue\n",
    "    else:\n",
    "        turn_time+=1\n",
    "    if turn_time==4:\n",
    "        nx=x-dx[direction]\n",
    "        ny=y-dy[direction]\n",
    "        \n",
    "        if array[nx][ny]==0:\n",
    "            x=nx\n",
    "            y=ny\n",
    "        else:\n",
    "            break\n",
    "        turn_time=0\n",
    "        \n",
    "print(count)\n",
    "\"\"\""
   ]
  },
  {
   "cell_type": "code",
   "execution_count": null,
   "metadata": {},
   "outputs": [],
   "source": []
  }
 ],
 "metadata": {
  "kernelspec": {
   "display_name": "Python 3",
   "language": "python",
   "name": "python3"
  },
  "language_info": {
   "codemirror_mode": {
    "name": "ipython",
    "version": 3
   },
   "file_extension": ".py",
   "mimetype": "text/x-python",
   "name": "python",
   "nbconvert_exporter": "python",
   "pygments_lexer": "ipython3",
   "version": "3.8.3"
  }
 },
 "nbformat": 4,
 "nbformat_minor": 4
}
