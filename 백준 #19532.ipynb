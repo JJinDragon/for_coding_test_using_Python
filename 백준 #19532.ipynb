{
 "cells": [
  {
   "cell_type": "code",
   "execution_count": null,
   "id": "bf3166b8",
   "metadata": {},
   "outputs": [],
   "source": [
    "import sys\n",
    "#a, b, c, d, e, f = map(int, sys.stdin.readline().split())\n",
    "a,b,c,d,e,f = map(int,input().split())\n",
    "\n",
    "for i in range(-999,1000):\n",
    "    for j in range(-999,1000):\n",
    "        if a*i + b*j == c and d*i + e*j == f:\n",
    "            print(i,j)"
   ]
  }
 ],
 "metadata": {
  "kernelspec": {
   "display_name": "Python 3 (ipykernel)",
   "language": "python",
   "name": "python3"
  },
  "language_info": {
   "codemirror_mode": {
    "name": "ipython",
    "version": 3
   },
   "file_extension": ".py",
   "mimetype": "text/x-python",
   "name": "python",
   "nbconvert_exporter": "python",
   "pygments_lexer": "ipython3",
   "version": "3.10.9"
  }
 },
 "nbformat": 4,
 "nbformat_minor": 5
}
