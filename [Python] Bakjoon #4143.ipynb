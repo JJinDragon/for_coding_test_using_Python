{
 "cells": [
  {
   "cell_type": "code",
   "execution_count": null,
   "id": "28480898",
   "metadata": {},
   "outputs": [],
   "source": [
    "import sys\n",
    "import math\n",
    "\n",
    "def is_prime_number(x):\n",
    "    # 2부터 x의 제곱근까지의 모든 수를 확인하며\n",
    "    for i in range(2, int(math.sqrt(x)) + 1):\n",
    "        # x가 해당 수로 나누어떨어진다면\n",
    "        if x % i == 0:\n",
    "            return False # 소수가 아님\n",
    "    return True # 소수임\n",
    "#input=sys.stdin.readline\n",
    "K=int(input())\n",
    "for i in range(K):\n",
    "    num=int(input())\n",
    "    while True:\n",
    "        if num==0 or num==1:\n",
    "            num+=1\n",
    "            continue\n",
    "        if is_prime_number(num)==True:\n",
    "            print(num)\n",
    "            break\n",
    "        num+=1"
   ]
  }
 ],
 "metadata": {
  "kernelspec": {
   "display_name": "Python 3 (ipykernel)",
   "language": "python",
   "name": "python3"
  },
  "language_info": {
   "codemirror_mode": {
    "name": "ipython",
    "version": 3
   },
   "file_extension": ".py",
   "mimetype": "text/x-python",
   "name": "python",
   "nbconvert_exporter": "python",
   "pygments_lexer": "ipython3",
   "version": "3.10.9"
  }
 },
 "nbformat": 4,
 "nbformat_minor": 5
}
